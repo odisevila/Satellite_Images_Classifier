{
 "cells": [
  {
   "cell_type": "code",
   "execution_count": 1,
   "metadata": {},
   "outputs": [],
   "source": [
    "import numpy as np\n",
    "import pandas as pd\n",
    "import matplotlib.pyplot as plt\n",
    "import os\n",
    "import cv2\n",
    "from sklearn.utils import shuffle\n",
    "from tensorflow.keras.models import Sequential\n",
    "from tensorflow.keras.layers import Conv2D, Activation, Dense, Dropout, Flatten, MaxPooling2D\n",
    "from tensorflow.keras.callbacks import EarlyStopping\n",
    "from tensorflow.keras.callbacks import History \n",
    "from tensorflow.keras import backend as K\n",
    "if K.backend() == 'tensorflow':\n",
    "    import tensorflow as tf"
   ]
  },
  {
   "cell_type": "code",
   "execution_count": 2,
   "metadata": {},
   "outputs": [],
   "source": [
    "train_path = './seg_train/seg_train/'\n",
    "test_path = './seg_test/seg_test/'\n",
    "Labels = ['buildings', 'forest','glacier','mountain','sea','street']\n",
    "label_dict = {0:'buildings', 1:'forest', 2:'glacier', 3:'mountain', 4:'sea', 5:'street'}"
   ]
  },
  {
   "cell_type": "code",
   "execution_count": 3,
   "metadata": {},
   "outputs": [],
   "source": [
    "def get_data(path):\n",
    "    images = list()\n",
    "    lbls = list()\n",
    "    for label in Labels:\n",
    "        for image in os.listdir(path+label):\n",
    "            img = cv2.imread(path+label+r'/'+image)\n",
    "            img = cv2.resize(img,(50,50))\n",
    "            images.append(img)\n",
    "            if label == 'buildings':\n",
    "                lbl = 0\n",
    "            elif label == 'forest':\n",
    "                lbl = 1\n",
    "            elif label == 'glacier':\n",
    "                lbl = 2\n",
    "            elif label == 'mountain':\n",
    "                lbl = 3\n",
    "            elif label == 'sea':\n",
    "                lbl = 4\n",
    "            else:\n",
    "                lbl = 5\n",
    "            lbls.append(lbl)\n",
    "            \n",
    "    images = np.array(images)/255\n",
    "    lbls = np.array(lbls)\n",
    "    \n",
    "    return shuffle(images, lbls, random_state=42)"
   ]
  },
  {
   "cell_type": "code",
   "execution_count": 4,
   "metadata": {},
   "outputs": [],
   "source": [
    "train_images, train_labels = get_data(train_path)"
   ]
  },
  {
   "cell_type": "code",
   "execution_count": 5,
   "metadata": {},
   "outputs": [],
   "source": [
    "test_images, test_labels = get_data(test_path)"
   ]
  },
  {
   "cell_type": "code",
   "execution_count": 6,
   "metadata": {},
   "outputs": [
    {
     "name": "stdout",
     "output_type": "stream",
     "text": [
      "Model: \"sequential\"\n",
      "_________________________________________________________________\n",
      "Layer (type)                 Output Shape              Param #   \n",
      "=================================================================\n",
      "conv2d (Conv2D)              (None, 50, 50, 16)        208       \n",
      "_________________________________________________________________\n",
      "max_pooling2d (MaxPooling2D) (None, 25, 25, 16)        0         \n",
      "_________________________________________________________________\n",
      "conv2d_1 (Conv2D)            (None, 25, 25, 32)        2080      \n",
      "_________________________________________________________________\n",
      "max_pooling2d_1 (MaxPooling2 (None, 12, 12, 32)        0         \n",
      "_________________________________________________________________\n",
      "conv2d_2 (Conv2D)            (None, 12, 12, 64)        8256      \n",
      "_________________________________________________________________\n",
      "max_pooling2d_2 (MaxPooling2 (None, 6, 6, 64)          0         \n",
      "_________________________________________________________________\n",
      "dropout (Dropout)            (None, 6, 6, 64)          0         \n",
      "_________________________________________________________________\n",
      "flatten (Flatten)            (None, 2304)              0         \n",
      "_________________________________________________________________\n",
      "dense (Dense)                (None, 500)               1152500   \n",
      "_________________________________________________________________\n",
      "dropout_1 (Dropout)          (None, 500)               0         \n",
      "_________________________________________________________________\n",
      "dense_1 (Dense)              (None, 6)                 3006      \n",
      "=================================================================\n",
      "Total params: 1,166,050\n",
      "Trainable params: 1,166,050\n",
      "Non-trainable params: 0\n",
      "_________________________________________________________________\n"
     ]
    }
   ],
   "source": [
    "model=Sequential()\n",
    "model.add(Conv2D(filters=16,kernel_size=2,padding=\"same\",activation=\"relu\",input_shape=train_images.shape[1:]))\n",
    "model.add(MaxPooling2D(pool_size=2))\n",
    "model.add(Conv2D(filters=32,kernel_size=2,padding=\"same\",activation=\"relu\"))\n",
    "model.add(MaxPooling2D(pool_size=2))\n",
    "model.add(Conv2D(filters=64,kernel_size=2,padding=\"same\",activation=\"relu\"))\n",
    "model.add(MaxPooling2D(pool_size=2))\n",
    "model.add(Dropout(0.2))\n",
    "model.add(Flatten())\n",
    "model.add(Dense(500,activation=\"relu\"))\n",
    "model.add(Dropout(0.2))\n",
    "model.add(Dense(6,activation=\"softmax\"))\n",
    "model.compile(loss='sparse_categorical_crossentropy', optimizer='adam', metrics=['accuracy'])\n",
    "model.summary()"
   ]
  },
  {
   "cell_type": "code",
   "execution_count": 7,
   "metadata": {},
   "outputs": [],
   "source": [
    "monitor = EarlyStopping(monitor='val_loss', patience=5, verbose=1, restore_best_weights=True)"
   ]
  },
  {
   "cell_type": "code",
   "execution_count": 8,
   "metadata": {},
   "outputs": [
    {
     "name": "stdout",
     "output_type": "stream",
     "text": [
      "Train on 10525 samples, validate on 3509 samples\n",
      "Epoch 1/50\n",
      "10525/10525 [==============================] - 11s 1ms/sample - loss: 1.0427 - accuracy: 0.6006 - val_loss: 0.8498 - val_accuracy: 0.6857\n",
      "Epoch 2/50\n",
      "10525/10525 [==============================] - 11s 1ms/sample - loss: 0.7394 - accuracy: 0.7293 - val_loss: 0.6485 - val_accuracy: 0.7629\n",
      "Epoch 3/50\n",
      "10525/10525 [==============================] - 11s 1ms/sample - loss: 0.6387 - accuracy: 0.7674 - val_loss: 0.7155 - val_accuracy: 0.7350\n",
      "Epoch 4/50\n",
      "10525/10525 [==============================] - 11s 1ms/sample - loss: 0.5600 - accuracy: 0.7957 - val_loss: 0.6587 - val_accuracy: 0.7655\n",
      "Epoch 5/50\n",
      "10525/10525 [==============================] - 11s 1ms/sample - loss: 0.4987 - accuracy: 0.8186 - val_loss: 0.6172 - val_accuracy: 0.7700\n",
      "Epoch 6/50\n",
      "10525/10525 [==============================] - 11s 1ms/sample - loss: 0.4538 - accuracy: 0.8360 - val_loss: 0.5711 - val_accuracy: 0.7925\n",
      "Epoch 7/50\n",
      "10525/10525 [==============================] - 11s 1ms/sample - loss: 0.4114 - accuracy: 0.8523 - val_loss: 0.5733 - val_accuracy: 0.7965\n",
      "Epoch 8/50\n",
      "10525/10525 [==============================] - 11s 1ms/sample - loss: 0.3597 - accuracy: 0.8686 - val_loss: 0.5264 - val_accuracy: 0.8093\n",
      "Epoch 9/50\n",
      "10525/10525 [==============================] - 11s 1ms/sample - loss: 0.3140 - accuracy: 0.8899 - val_loss: 0.5398 - val_accuracy: 0.8039\n",
      "Epoch 10/50\n",
      "10525/10525 [==============================] - 11s 1ms/sample - loss: 0.2783 - accuracy: 0.8984 - val_loss: 0.5288 - val_accuracy: 0.8125\n",
      "Epoch 11/50\n",
      "10525/10525 [==============================] - 11s 1ms/sample - loss: 0.2484 - accuracy: 0.9117 - val_loss: 0.5728 - val_accuracy: 0.8111\n",
      "Epoch 12/50\n",
      "10525/10525 [==============================] - 11s 1ms/sample - loss: 0.2221 - accuracy: 0.9207 - val_loss: 0.5902 - val_accuracy: 0.8122\n",
      "Epoch 13/50\n",
      "10464/10525 [============================>.] - ETA: 0s - loss: 0.1982 - accuracy: 0.9309Restoring model weights from the end of the best epoch.\n",
      "10525/10525 [==============================] - 11s 1ms/sample - loss: 0.1983 - accuracy: 0.9308 - val_loss: 0.5919 - val_accuracy: 0.8133\n",
      "Epoch 00013: early stopping\n"
     ]
    }
   ],
   "source": [
    "model_h = model.fit(train_images,train_labels,epochs=50,validation_split=.25, callbacks=[monitor])"
   ]
  },
  {
   "cell_type": "code",
   "execution_count": 9,
   "metadata": {},
   "outputs": [
    {
     "name": "stdout",
     "output_type": "stream",
     "text": [
      "3000/3000 [==============================] - 1s 268us/sample - loss: 0.5298 - accuracy: 0.8143\n"
     ]
    },
    {
     "data": {
      "text/plain": [
       "[0.5298499041398367, 0.8143333]"
      ]
     },
     "execution_count": 9,
     "metadata": {},
     "output_type": "execute_result"
    }
   ],
   "source": [
    "model.evaluate(test_images,test_labels, verbose=1)"
   ]
  },
  {
   "cell_type": "code",
   "execution_count": null,
   "metadata": {},
   "outputs": [],
   "source": []
  }
 ],
 "metadata": {
  "kernelspec": {
   "display_name": "Python 3.7.4 64-bit ('base': conda)",
   "language": "python",
   "name": "python37464bitbaseconda131495974d4643718c5873ac07c16029"
  },
  "language_info": {
   "codemirror_mode": {
    "name": "ipython",
    "version": 3
   },
   "file_extension": ".py",
   "mimetype": "text/x-python",
   "name": "python",
   "nbconvert_exporter": "python",
   "pygments_lexer": "ipython3",
   "version": "3.7.6"
  }
 },
 "nbformat": 4,
 "nbformat_minor": 4
}
