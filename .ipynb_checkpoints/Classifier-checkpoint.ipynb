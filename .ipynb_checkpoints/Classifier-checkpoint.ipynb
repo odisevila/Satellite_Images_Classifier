{
 "cells": [
  {
   "cell_type": "code",
   "execution_count": 40,
   "metadata": {},
   "outputs": [],
   "source": [
    "import numpy as np\n",
    "import pandas as pd\n",
    "import matplotlib.pyplot as plt\n",
    "import os\n",
    "import cv2\n",
    "from PIL import Image\n",
    "import pickle\n",
    "from math import floor\n",
    "from sklearn.utils import shuffle\n",
    "from tensorflow.keras.models import Sequential\n",
    "from tensorflow.keras.layers import Conv2D, Activation, Dense, Dropout, Flatten, MaxPooling2D, Input, Concatenate\n",
    "from tensorflow.keras.callbacks import EarlyStopping\n",
    "from tensorflow.keras.callbacks import History \n",
    "from tensorflow.keras import Model\n",
    "from tensorflow.keras import backend as K\n",
    "if K.backend() == 'tensorflow':\n",
    "    import tensorflow as tf"
   ]
  },
  {
   "cell_type": "code",
   "execution_count": 66,
   "metadata": {},
   "outputs": [],
   "source": [
    "train_path = './seg_train/seg_train/'\n",
    "test_path = './seg_test/seg_test/'\n",
    "Labels = ['buildings', 'forest','glacier','mountain','sea','street']\n",
    "#Labels = ['buildings', 'forest','glacier','mountain','sea']\n",
    "label_dict = {0:'buildings', 1:'forest', 2:'glacier', 3:'mountain', 4:'sea', 5:'street'}\n",
    "#label_dict = {0:'buildings', 1:'forest', 2:'glacier', 3:'mountain', 4:'sea'}"
   ]
  },
  {
   "cell_type": "code",
   "execution_count": 67,
   "metadata": {},
   "outputs": [],
   "source": [
    "min_count = len(os.listdir(train_path+'buildings'))*3"
   ]
  },
  {
   "cell_type": "code",
   "execution_count": 68,
   "metadata": {},
   "outputs": [],
   "source": [
    "def get_data(path):\n",
    "    images = list()\n",
    "    lbls = list()\n",
    "    for label in Labels:\n",
    "        count = 0\n",
    "        for image in os.listdir(path+label):\n",
    "            if count < min_count:\n",
    "                img = cv2.imread(path+label+r'/'+image)\n",
    "                img = Image.fromarray(img , 'RGB')\n",
    "                img = img.resize((50,50))\n",
    "                images.append(np.array(img)/255)\n",
    "                if label == 'buildings':\n",
    "                    lbl = 0\n",
    "                elif label == 'forest':\n",
    "                    lbl = 1\n",
    "                elif label == 'glacier':\n",
    "                    lbl = 2\n",
    "                elif label == 'mountain':\n",
    "                    lbl = 3\n",
    "                elif label == 'sea':\n",
    "                    lbl = 4\n",
    "                else:\n",
    "                    lbl = 5\n",
    "                lbls.append(lbl)\n",
    "                if path == train_path:\n",
    "                    rotated = img.rotate(45)\n",
    "                    flipped = np.fliplr(img)\n",
    "                    images.append(np.array(rotated)/255)\n",
    "                    images.append(np.array(flipped)/255)\n",
    "                    lbls.append(lbl)\n",
    "                    lbls.append(lbl)\n",
    "                    #train_label_count[label] += 3\n",
    "                    count += 3\n",
    "                \n",
    "    images = np.array(images)\n",
    "    lbls = np.array(lbls)\n",
    "    \n",
    "    return shuffle(images, lbls, random_state=42)"
   ]
  },
  {
   "cell_type": "code",
   "execution_count": 69,
   "metadata": {},
   "outputs": [],
   "source": [
    "train_images, train_labels = get_data(train_path)"
   ]
  },
  {
   "cell_type": "code",
   "execution_count": 70,
   "metadata": {},
   "outputs": [],
   "source": [
    "test_images, test_labels = get_data(test_path)"
   ]
  },
  {
   "cell_type": "code",
   "execution_count": 71,
   "metadata": {},
   "outputs": [],
   "source": [
    "monitor = EarlyStopping(monitor='val_loss', patience=5, verbose=1, restore_best_weights=True)"
   ]
  },
  {
   "cell_type": "code",
   "execution_count": 72,
   "metadata": {},
   "outputs": [],
   "source": [
    "train_A, train_B = train_images, train_images"
   ]
  },
  {
   "cell_type": "code",
   "execution_count": 73,
   "metadata": {},
   "outputs": [
    {
     "name": "stdout",
     "output_type": "stream",
     "text": [
      "Model: \"model_12\"\n",
      "__________________________________________________________________________________________________\n",
      "Layer (type)                    Output Shape         Param #     Connected to                     \n",
      "==================================================================================================\n",
      "input_B (InputLayer)            [(None, 50, 50, 3)]  0                                            \n",
      "__________________________________________________________________________________________________\n",
      "conv2d_43 (Conv2D)              (None, 50, 50, 128)  1664        input_B[0][0]                    \n",
      "__________________________________________________________________________________________________\n",
      "max_pooling2d_37 (MaxPooling2D) (None, 25, 25, 128)  0           conv2d_43[0][0]                  \n",
      "__________________________________________________________________________________________________\n",
      "conv2d_44 (Conv2D)              (None, 25, 25, 64)   32832       max_pooling2d_37[0][0]           \n",
      "__________________________________________________________________________________________________\n",
      "max_pooling2d_38 (MaxPooling2D) (None, 12, 12, 64)   0           conv2d_44[0][0]                  \n",
      "__________________________________________________________________________________________________\n",
      "conv2d_45 (Conv2D)              (None, 12, 12, 32)   8224        max_pooling2d_38[0][0]           \n",
      "__________________________________________________________________________________________________\n",
      "max_pooling2d_39 (MaxPooling2D) (None, 6, 6, 32)     0           conv2d_45[0][0]                  \n",
      "__________________________________________________________________________________________________\n",
      "input_A (InputLayer)            [(None, 50, 50, 3)]  0                                            \n",
      "__________________________________________________________________________________________________\n",
      "dropout_34 (Dropout)            (None, 6, 6, 32)     0           max_pooling2d_39[0][0]           \n",
      "__________________________________________________________________________________________________\n",
      "dense_30 (Dense)                (None, 50, 50, 50)   200         input_A[0][0]                    \n",
      "__________________________________________________________________________________________________\n",
      "flatten_27 (Flatten)            (None, 1152)         0           dropout_34[0][0]                 \n",
      "__________________________________________________________________________________________________\n",
      "dropout_33 (Dropout)            (None, 50, 50, 50)   0           dense_30[0][0]                   \n",
      "__________________________________________________________________________________________________\n",
      "dense_31 (Dense)                (None, 500)          576500      flatten_27[0][0]                 \n",
      "__________________________________________________________________________________________________\n",
      "flatten_26 (Flatten)            (None, 125000)       0           dropout_33[0][0]                 \n",
      "__________________________________________________________________________________________________\n",
      "dropout_35 (Dropout)            (None, 500)          0           dense_31[0][0]                   \n",
      "__________________________________________________________________________________________________\n",
      "concatenate_14 (Concatenate)    (None, 125500)       0           flatten_26[0][0]                 \n",
      "                                                                 dropout_35[0][0]                 \n",
      "__________________________________________________________________________________________________\n",
      "dense_32 (Dense)                (None, 6)            753006      concatenate_14[0][0]             \n",
      "==================================================================================================\n",
      "Total params: 1,372,426\n",
      "Trainable params: 1,372,426\n",
      "Non-trainable params: 0\n",
      "__________________________________________________________________________________________________\n"
     ]
    }
   ],
   "source": [
    "input_A = Input(shape=train_A.shape[1:], name='input_A')\n",
    "dense = Dense(50, activation='relu')(input_A)\n",
    "drop_1A = Dropout(0.3)(dense)\n",
    "flat_A = Flatten()(drop_1A)\n",
    "input_B = Input(shape=train_B.shape[1:], name='input_B')\n",
    "conv_1 = Conv2D(filters=128,kernel_size=2,padding=\"same\",activation=\"relu\")(input_B)\n",
    "pool_1 = MaxPooling2D(pool_size=(2, 2))(conv_1)\n",
    "conv_2 = Conv2D(filters=64,kernel_size=2,padding=\"same\",activation=\"relu\")(pool_1)\n",
    "pool_2 = MaxPooling2D(pool_size=(2, 2))(conv_2)\n",
    "conv_3 = Conv2D(filters=32,kernel_size=2,padding=\"same\",activation=\"relu\")(pool_2)\n",
    "pool_3 = MaxPooling2D(pool_size=(2, 2))(conv_3)\n",
    "drop_1 = Dropout(0.2)(pool_3)\n",
    "flat_2 = Flatten()(drop_1)\n",
    "hidden1 = Dense(500, activation='relu')(flat_2)\n",
    "drop_2 = Dropout(0.2)(hidden1)\n",
    "concat = Concatenate()([flat_A, drop_2])\n",
    "output = Dense(6, activation=\"softmax\")(concat)\n",
    "model = Model(inputs=[input_A, input_B], outputs=[output])\n",
    "model.compile(loss='sparse_categorical_crossentropy', optimizer='adam', metrics=['accuracy'])\n",
    "model.summary()"
   ]
  },
  {
   "cell_type": "code",
   "execution_count": 74,
   "metadata": {},
   "outputs": [
    {
     "name": "stdout",
     "output_type": "stream",
     "text": [
      "Train on 27606 samples, validate on 11832 samples\n",
      "Epoch 1/50\n",
      "27606/27606 [==============================] - 195s 7ms/sample - loss: 1.0460 - accuracy: 0.6204 - val_loss: 0.8008 - val_accuracy: 0.7087\n",
      "Epoch 2/50\n",
      "27606/27606 [==============================] - 175s 6ms/sample - loss: 0.7571 - accuracy: 0.7258 - val_loss: 0.7110 - val_accuracy: 0.7440\n",
      "Epoch 3/50\n",
      "27606/27606 [==============================] - 164s 6ms/sample - loss: 0.6587 - accuracy: 0.7616 - val_loss: 0.6869 - val_accuracy: 0.7495\n",
      "Epoch 4/50\n",
      "27606/27606 [==============================] - 165s 6ms/sample - loss: 0.5937 - accuracy: 0.7846 - val_loss: 0.6958 - val_accuracy: 0.7545\n",
      "Epoch 5/50\n",
      "27606/27606 [==============================] - 165s 6ms/sample - loss: 0.5434 - accuracy: 0.8059 - val_loss: 0.6314 - val_accuracy: 0.7798\n",
      "Epoch 6/50\n",
      "27606/27606 [==============================] - 165s 6ms/sample - loss: 0.4901 - accuracy: 0.8259 - val_loss: 0.6478 - val_accuracy: 0.7686\n",
      "Epoch 7/50\n",
      "27606/27606 [==============================] - 157s 6ms/sample - loss: 0.4461 - accuracy: 0.8368 - val_loss: 0.5983 - val_accuracy: 0.7957\n",
      "Epoch 8/50\n",
      "27606/27606 [==============================] - 150s 5ms/sample - loss: 0.3964 - accuracy: 0.8571 - val_loss: 0.5904 - val_accuracy: 0.8028\n",
      "Epoch 9/50\n",
      "27606/27606 [==============================] - 149s 5ms/sample - loss: 0.3562 - accuracy: 0.8715 - val_loss: 0.6187 - val_accuracy: 0.7915\n",
      "Epoch 10/50\n",
      "27606/27606 [==============================] - 145s 5ms/sample - loss: 0.3196 - accuracy: 0.8843 - val_loss: 0.6108 - val_accuracy: 0.7921\n",
      "Epoch 11/50\n",
      "27606/27606 [==============================] - 145s 5ms/sample - loss: 0.2881 - accuracy: 0.8965 - val_loss: 0.6502 - val_accuracy: 0.7900\n",
      "Epoch 12/50\n",
      "27606/27606 [==============================] - 144s 5ms/sample - loss: 0.2496 - accuracy: 0.9120 - val_loss: 0.6601 - val_accuracy: 0.7985\n",
      "Epoch 13/50\n",
      "27584/27606 [============================>.] - ETA: 0s - loss: 0.2295 - accuracy: 0.9168Restoring model weights from the end of the best epoch.\n",
      "27606/27606 [==============================] - 144s 5ms/sample - loss: 0.2296 - accuracy: 0.9168 - val_loss: 0.6675 - val_accuracy: 0.8006\n",
      "Epoch 00013: early stopping\n"
     ]
    },
    {
     "data": {
      "text/plain": [
       "<tensorflow.python.keras.callbacks.History at 0x1a57fd3c10>"
      ]
     },
     "execution_count": 74,
     "metadata": {},
     "output_type": "execute_result"
    }
   ],
   "source": [
    "model.fit([train_A, train_B], train_labels, epochs=50,validation_split=.3, callbacks=[monitor], shuffle=True)"
   ]
  },
  {
   "cell_type": "code",
   "execution_count": 75,
   "metadata": {},
   "outputs": [
    {
     "name": "stdout",
     "output_type": "stream",
     "text": [
      "3000/3000 [==============================] - 5s 2ms/sample - loss: 0.6149 - accuracy: 0.8020\n"
     ]
    },
    {
     "data": {
      "text/plain": [
       "[0.614936641295751, 0.802]"
      ]
     },
     "execution_count": 75,
     "metadata": {},
     "output_type": "execute_result"
    }
   ],
   "source": [
    "model.evaluate([test_images,test_images],test_labels, verbose=1)"
   ]
  },
  {
   "cell_type": "code",
   "execution_count": null,
   "metadata": {},
   "outputs": [],
   "source": []
  }
 ],
 "metadata": {
  "kernelspec": {
   "display_name": "Python 3.7.4 64-bit ('base': conda)",
   "language": "python",
   "name": "python37464bitbaseconda131495974d4643718c5873ac07c16029"
  },
  "language_info": {
   "codemirror_mode": {
    "name": "ipython",
    "version": 3
   },
   "file_extension": ".py",
   "mimetype": "text/x-python",
   "name": "python",
   "nbconvert_exporter": "python",
   "pygments_lexer": "ipython3",
   "version": "3.7.6"
  }
 },
 "nbformat": 4,
 "nbformat_minor": 4
}
